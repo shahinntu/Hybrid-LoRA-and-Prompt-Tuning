{
 "cells": [
  {
   "cell_type": "code",
   "execution_count": 1,
   "metadata": {},
   "outputs": [],
   "source": [
    "import sys\n",
    "\n",
    "import numpy as np\n",
    "from transformers import AutoTokenizer\n",
    "\n",
    "sys.path.append(\"../\")\n",
    "from src import TaskAdapter, Params"
   ]
  },
  {
   "cell_type": "code",
   "execution_count": 3,
   "metadata": {},
   "outputs": [],
   "source": [
    "config_path = \"../configs/train_config_samsum.json\"\n",
    "config = Params(config_path)"
   ]
  },
  {
   "cell_type": "code",
   "execution_count": 4,
   "metadata": {},
   "outputs": [],
   "source": [
    "model_name = config.MODEL.BASE_MODEL_NAME\n",
    "tokenizer = AutoTokenizer.from_pretrained(model_name)"
   ]
  },
  {
   "cell_type": "code",
   "execution_count": 5,
   "metadata": {},
   "outputs": [],
   "source": [
    "def visualize_samples(dataset_dict):\n",
    "    example_indices = np.random.randint(0, len(dataset_dict[\"train\"]), 2).tolist()\n",
    "\n",
    "    dash_line = \"-\".join(\" \" for _ in range(100))\n",
    "\n",
    "    for i, index in enumerate(example_indices):\n",
    "        print(dash_line)\n",
    "        print(f\"Example {i+1}\")\n",
    "        print(dash_line)\n",
    "        print(\"TEXT:\")\n",
    "        print(dataset_dict[\"train\"][index][\"text\"])\n",
    "        print(dash_line)\n",
    "        print(\"LABEL:\")\n",
    "        print(dataset_dict[\"train\"][index][\"label\"])\n",
    "        print(dash_line)\n",
    "        print()"
   ]
  },
  {
   "cell_type": "markdown",
   "metadata": {},
   "source": [
    "# WikiSQL Dataset"
   ]
  },
  {
   "cell_type": "code",
   "execution_count": 6,
   "metadata": {},
   "outputs": [],
   "source": [
    "wikisql_datasetname = \"wikisql\"\n",
    "wikisql_dataset_adapter = TaskAdapter(wikisql_datasetname, tokenizer)"
   ]
  },
  {
   "cell_type": "markdown",
   "metadata": {},
   "source": [
    "**Text and Label**"
   ]
  },
  {
   "cell_type": "code",
   "execution_count": 40,
   "metadata": {},
   "outputs": [
    {
     "name": "stdout",
     "output_type": "stream",
     "text": [
      " - - - - - - - - - - - - - - - - - - - - - - - - - - - - - - - - - - - - - - - - - - - - - - - - - - - - - - - - - - - - - - - - - - - - - - - - - - - - - - - - - - - - - - - - - - - - - - - - - - - \n",
      "Example 1\n",
      " - - - - - - - - - - - - - - - - - - - - - - - - - - - - - - - - - - - - - - - - - - - - - - - - - - - - - - - - - - - - - - - - - - - - - - - - - - - - - - - - - - - - - - - - - - - - - - - - - - - \n",
      "TEXT:\n",
      "Kim Weiskopf and Jeff Franklin wrote all the no. in series.\n",
      " - - - - - - - - - - - - - - - - - - - - - - - - - - - - - - - - - - - - - - - - - - - - - - - - - - - - - - - - - - - - - - - - - - - - - - - - - - - - - - - - - - - - - - - - - - - - - - - - - - - \n",
      "LABEL:\n",
      "SELECT No. in series FROM table WHERE Written by = Kim Weiskopf and Jeff Franklin\n",
      " - - - - - - - - - - - - - - - - - - - - - - - - - - - - - - - - - - - - - - - - - - - - - - - - - - - - - - - - - - - - - - - - - - - - - - - - - - - - - - - - - - - - - - - - - - - - - - - - - - - \n",
      "\n",
      " - - - - - - - - - - - - - - - - - - - - - - - - - - - - - - - - - - - - - - - - - - - - - - - - - - - - - - - - - - - - - - - - - - - - - - - - - - - - - - - - - - - - - - - - - - - - - - - - - - - \n",
      "Example 2\n",
      " - - - - - - - - - - - - - - - - - - - - - - - - - - - - - - - - - - - - - - - - - - - - - - - - - - - - - - - - - - - - - - - - - - - - - - - - - - - - - - - - - - - - - - - - - - - - - - - - - - - \n",
      "TEXT:\n",
      "What was the score of the game on May 26?\n",
      " - - - - - - - - - - - - - - - - - - - - - - - - - - - - - - - - - - - - - - - - - - - - - - - - - - - - - - - - - - - - - - - - - - - - - - - - - - - - - - - - - - - - - - - - - - - - - - - - - - - \n",
      "LABEL:\n",
      "SELECT Score FROM table WHERE Date = may 26\n",
      " - - - - - - - - - - - - - - - - - - - - - - - - - - - - - - - - - - - - - - - - - - - - - - - - - - - - - - - - - - - - - - - - - - - - - - - - - - - - - - - - - - - - - - - - - - - - - - - - - - - \n",
      "\n"
     ]
    }
   ],
   "source": [
    "visualize_samples(wikisql_dataset_adapter.dataset_dict)"
   ]
  },
  {
   "cell_type": "markdown",
   "metadata": {},
   "source": [
    "**Start and End Prompts**"
   ]
  },
  {
   "cell_type": "code",
   "execution_count": 8,
   "metadata": {},
   "outputs": [
    {
     "name": "stdout",
     "output_type": "stream",
     "text": [
      "Start prompt: Translate this query into SQL:\\n\\n\n",
      "End prompt: \\n\\nSQL:\n"
     ]
    }
   ],
   "source": [
    "start_prompt = wikisql_dataset_adapter.start_prompt.replace(\"\\n\", \"\\\\n\")\n",
    "end_prompt = wikisql_dataset_adapter.end_prompt.replace(\"\\n\", \"\\\\n\")\n",
    "\n",
    "print(f\"Start prompt: {start_prompt}\")\n",
    "print(f\"End prompt: {end_prompt}\")"
   ]
  },
  {
   "cell_type": "markdown",
   "metadata": {},
   "source": [
    "# Samsum Dataset"
   ]
  },
  {
   "cell_type": "code",
   "execution_count": 9,
   "metadata": {},
   "outputs": [],
   "source": [
    "samsum_datasetname = \"samsum\"\n",
    "samsum_dataset_adapter = TaskAdapter(samsum_datasetname, tokenizer)"
   ]
  },
  {
   "cell_type": "markdown",
   "metadata": {},
   "source": [
    "**Text and Label**"
   ]
  },
  {
   "cell_type": "code",
   "execution_count": 61,
   "metadata": {},
   "outputs": [
    {
     "name": "stdout",
     "output_type": "stream",
     "text": [
      " - - - - - - - - - - - - - - - - - - - - - - - - - - - - - - - - - - - - - - - - - - - - - - - - - - - - - - - - - - - - - - - - - - - - - - - - - - - - - - - - - - - - - - - - - - - - - - - - - - - \n",
      "Example 1\n",
      " - - - - - - - - - - - - - - - - - - - - - - - - - - - - - - - - - - - - - - - - - - - - - - - - - - - - - - - - - - - - - - - - - - - - - - - - - - - - - - - - - - - - - - - - - - - - - - - - - - - \n",
      "TEXT:\n",
      "George: Hey, tomek!\n",
      "George: How is it going? \n",
      "Tomek: Hi George! Long time no see! It's going great, I'm back home, going to the gym, eating a lot and enjoying life of a jobless bum ^^. How are you?\n",
      "George: I'm glad to hear that. You deserve a little break from everything that's on the other side (of the world)\n",
      "George: You're coming to Ania's we'd, right?\n",
      "George: wedding*\n",
      "Tomek: Sure thing! Are you :d?\n",
      "George: It would be weird if I won't\n",
      "George: Yep, of course :D\n",
      "Tomek: Haha! Awesome!\n",
      "Tomek: I was hoping we could meet there:D\n",
      "George: Aaam, I want ask you about the tradition of the whole thing\n",
      "George: I don't want to be caught of guard\n",
      "Tomek: Sure thing, as whatever you want\n",
      "George: For example, what do you guys give to married couple?\n",
      "George: Random gifts, money...\n",
      "George: A slap on their butt??\n",
      "George: :D:D:D\n",
      "Tomek: So it goes like that: we go to the church for ceremony. After that young couple is receiving gifts from guests, it's in front of the church. Nowadays usually money, typically about ~300 PLN per couple, but if you're short on cash you don't have to give anything, no pressure here. Then you wish them quick divorce and you step back so other guests can make it rain as well ;)\n",
      "George: So money is right choice\n",
      "George: Hahhah\n",
      "Tomek: But you're coming all the way here, I'm sure your presence will be the best gift for them\n",
      "George: Yeah, nah\n",
      "George: It wouldn't be a nice thing to do\n",
      "George: Besides I don't think it's so far\n",
      "George: It takes an hour and 45 minutes to get there\n",
      "Tomek: Are you coming with someone? \n",
      "George: I'm coming solo\n",
      "George: Not because I'm cheap\n",
      " - - - - - - - - - - - - - - - - - - - - - - - - - - - - - - - - - - - - - - - - - - - - - - - - - - - - - - - - - - - - - - - - - - - - - - - - - - - - - - - - - - - - - - - - - - - - - - - - - - - \n",
      "LABEL:\n",
      "George is coming to Ania's wedding from abroad. He doesn't know what to give to the newlyweds and he is quite unaware of Polish wedding traditions. Tomek explains him the usual turn of events: the holy mass, the gifts and the wishes.\n",
      " - - - - - - - - - - - - - - - - - - - - - - - - - - - - - - - - - - - - - - - - - - - - - - - - - - - - - - - - - - - - - - - - - - - - - - - - - - - - - - - - - - - - - - - - - - - - - - - - - - - \n",
      "\n",
      " - - - - - - - - - - - - - - - - - - - - - - - - - - - - - - - - - - - - - - - - - - - - - - - - - - - - - - - - - - - - - - - - - - - - - - - - - - - - - - - - - - - - - - - - - - - - - - - - - - - \n",
      "Example 2\n",
      " - - - - - - - - - - - - - - - - - - - - - - - - - - - - - - - - - - - - - - - - - - - - - - - - - - - - - - - - - - - - - - - - - - - - - - - - - - - - - - - - - - - - - - - - - - - - - - - - - - - \n",
      "TEXT:\n",
      "Sophia: Its been 2 years since our marriage right? :/\n",
      "Mason: Yeah I guess\n",
      "Sophia: :/\n",
      " - - - - - - - - - - - - - - - - - - - - - - - - - - - - - - - - - - - - - - - - - - - - - - - - - - - - - - - - - - - - - - - - - - - - - - - - - - - - - - - - - - - - - - - - - - - - - - - - - - - \n",
      "LABEL:\n",
      "Sophia and Mason have been married for 2 years.\n",
      " - - - - - - - - - - - - - - - - - - - - - - - - - - - - - - - - - - - - - - - - - - - - - - - - - - - - - - - - - - - - - - - - - - - - - - - - - - - - - - - - - - - - - - - - - - - - - - - - - - - \n",
      "\n"
     ]
    }
   ],
   "source": [
    "visualize_samples(samsum_dataset_adapter.dataset_dict)"
   ]
  },
  {
   "cell_type": "markdown",
   "metadata": {},
   "source": [
    "**Start and End Prompts**"
   ]
  },
  {
   "cell_type": "code",
   "execution_count": 11,
   "metadata": {},
   "outputs": [
    {
     "name": "stdout",
     "output_type": "stream",
     "text": [
      "Start prompt: Summarize the following conversation:\\n\\n\n",
      "End prompt: \\n\\nSummary:\n"
     ]
    }
   ],
   "source": [
    "start_prompt = samsum_dataset_adapter.start_prompt.replace(\"\\n\", \"\\\\n\")\n",
    "end_prompt = samsum_dataset_adapter.end_prompt.replace(\"\\n\", \"\\\\n\")\n",
    "\n",
    "print(f\"Start prompt: {start_prompt}\")\n",
    "print(f\"End prompt: {end_prompt}\")"
   ]
  },
  {
   "cell_type": "markdown",
   "metadata": {},
   "source": [
    "# SST2 Dataset"
   ]
  },
  {
   "cell_type": "code",
   "execution_count": 12,
   "metadata": {},
   "outputs": [
    {
     "data": {
      "application/vnd.jupyter.widget-view+json": {
       "model_id": "2e905a399178419090f9bc5ed43031ca",
       "version_major": 2,
       "version_minor": 0
      },
      "text/plain": [
       "Map:   0%|          | 0/67349 [00:00<?, ? examples/s]"
      ]
     },
     "metadata": {},
     "output_type": "display_data"
    },
    {
     "data": {
      "application/vnd.jupyter.widget-view+json": {
       "model_id": "b78786d96b3947f89c3e75d495be4de8",
       "version_major": 2,
       "version_minor": 0
      },
      "text/plain": [
       "Map:   0%|          | 0/872 [00:00<?, ? examples/s]"
      ]
     },
     "metadata": {},
     "output_type": "display_data"
    },
    {
     "data": {
      "application/vnd.jupyter.widget-view+json": {
       "model_id": "0f9ce9dd51254c91b5aed5fb7a0b0779",
       "version_major": 2,
       "version_minor": 0
      },
      "text/plain": [
       "Map:   0%|          | 0/1821 [00:00<?, ? examples/s]"
      ]
     },
     "metadata": {},
     "output_type": "display_data"
    }
   ],
   "source": [
    "sst2_datasetname = \"sst2\"\n",
    "sst2_dataset_adapter = TaskAdapter(sst2_datasetname, tokenizer)"
   ]
  },
  {
   "cell_type": "markdown",
   "metadata": {},
   "source": [
    "**Text and Label**"
   ]
  },
  {
   "cell_type": "code",
   "execution_count": 66,
   "metadata": {},
   "outputs": [
    {
     "name": "stdout",
     "output_type": "stream",
     "text": [
      " - - - - - - - - - - - - - - - - - - - - - - - - - - - - - - - - - - - - - - - - - - - - - - - - - - - - - - - - - - - - - - - - - - - - - - - - - - - - - - - - - - - - - - - - - - - - - - - - - - - \n",
      "Example 1\n",
      " - - - - - - - - - - - - - - - - - - - - - - - - - - - - - - - - - - - - - - - - - - - - - - - - - - - - - - - - - - - - - - - - - - - - - - - - - - - - - - - - - - - - - - - - - - - - - - - - - - - \n",
      "TEXT:\n",
      "leaves us wondering less about its ideas and more about its characterization of hitler and the contrived nature of its provocative conclusion . \n",
      " - - - - - - - - - - - - - - - - - - - - - - - - - - - - - - - - - - - - - - - - - - - - - - - - - - - - - - - - - - - - - - - - - - - - - - - - - - - - - - - - - - - - - - - - - - - - - - - - - - - \n",
      "LABEL:\n",
      "negative\n",
      " - - - - - - - - - - - - - - - - - - - - - - - - - - - - - - - - - - - - - - - - - - - - - - - - - - - - - - - - - - - - - - - - - - - - - - - - - - - - - - - - - - - - - - - - - - - - - - - - - - - \n",
      "\n",
      " - - - - - - - - - - - - - - - - - - - - - - - - - - - - - - - - - - - - - - - - - - - - - - - - - - - - - - - - - - - - - - - - - - - - - - - - - - - - - - - - - - - - - - - - - - - - - - - - - - - \n",
      "Example 2\n",
      " - - - - - - - - - - - - - - - - - - - - - - - - - - - - - - - - - - - - - - - - - - - - - - - - - - - - - - - - - - - - - - - - - - - - - - - - - - - - - - - - - - - - - - - - - - - - - - - - - - - \n",
      "TEXT:\n",
      "is needed to live a rich and full life \n",
      " - - - - - - - - - - - - - - - - - - - - - - - - - - - - - - - - - - - - - - - - - - - - - - - - - - - - - - - - - - - - - - - - - - - - - - - - - - - - - - - - - - - - - - - - - - - - - - - - - - - \n",
      "LABEL:\n",
      "positive\n",
      " - - - - - - - - - - - - - - - - - - - - - - - - - - - - - - - - - - - - - - - - - - - - - - - - - - - - - - - - - - - - - - - - - - - - - - - - - - - - - - - - - - - - - - - - - - - - - - - - - - - \n",
      "\n"
     ]
    }
   ],
   "source": [
    "visualize_samples(sst2_dataset_adapter.dataset_dict)"
   ]
  },
  {
   "cell_type": "markdown",
   "metadata": {},
   "source": [
    "**Start and End Prompts**"
   ]
  },
  {
   "cell_type": "code",
   "execution_count": 14,
   "metadata": {},
   "outputs": [
    {
     "name": "stdout",
     "output_type": "stream",
     "text": [
      "Start prompt: Analyze the sentiment of the following sentence:\\n\\n\n",
      "End prompt: \\n\\nSentiment:\n"
     ]
    }
   ],
   "source": [
    "start_prompt = sst2_dataset_adapter.start_prompt.replace(\"\\n\", \"\\\\n\")\n",
    "end_prompt = sst2_dataset_adapter.end_prompt.replace(\"\\n\", \"\\\\n\")\n",
    "\n",
    "print(f\"Start prompt: {start_prompt}\")\n",
    "print(f\"End prompt: {end_prompt}\")"
   ]
  }
 ],
 "metadata": {
  "kernelspec": {
   "display_name": "torch-env",
   "language": "python",
   "name": "python3"
  },
  "language_info": {
   "codemirror_mode": {
    "name": "ipython",
    "version": 3
   },
   "file_extension": ".py",
   "mimetype": "text/x-python",
   "name": "python",
   "nbconvert_exporter": "python",
   "pygments_lexer": "ipython3",
   "version": "3.10.13"
  }
 },
 "nbformat": 4,
 "nbformat_minor": 2
}
